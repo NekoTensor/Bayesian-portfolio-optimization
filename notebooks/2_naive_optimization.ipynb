{
  "nbformat": 4,
  "nbformat_minor": 0,
  "metadata": {
    "colab": {
      "provenance": []
    },
    "kernelspec": {
      "name": "python3",
      "display_name": "Python 3"
    },
    "language_info": {
      "name": "python"
    }
  },
  "cells": [
    {
      "cell_type": "markdown",
      "source": [
        "# Naive Portfolio Optimization\n",
        "\n",
        "This notebook demonstrates a baseline portfolio optimization strategy using naive mean-variance optimization. We work with historical weekly data for a set of assets (ticker symbols) and go through the following steps:\n",
        "\n",
        "1. **Data Loading and Returns Calculation:**  \n",
        "   - Load cleaned historical price data.\n",
        "   - Compute weekly returns.\n",
        "\n",
        "2. **Statistical Calculations:**  \n",
        "   - Compute mean returns and the covariance matrix of returns.\n",
        "\n",
        "3. **Portfolio Optimization:**  \n",
        "   - Construct the efficient frontier by varying risk premiums.\n",
        "   - Identify the optimal portfolio that maximizes the Sharpe ratio.\n",
        "\n",
        "4. **Visualization:**  \n",
        "   - Plot the efficient frontier.\n",
        "   - Visualize cumulative returns interactively.\n",
        "\n",
        "5. **Performance Evaluation:**  \n",
        "   - Compute key metrics: annualized return, annualized risk, and Sharpe ratio."
      ],
      "metadata": {
        "id": "1YBbbIdNVqRK"
      }
    },
    {
      "cell_type": "code",
      "source": [
        "# Importing the required libraries\n",
        "import numpy as np\n",
        "import pandas as pd\n",
        "import matplotlib.pyplot as plt\n",
        "import seaborn as sns\n",
        "import plotly.express as px\n",
        "from scipy.optimize import minimize\n",
        "\n",
        "# visual style for plots\n",
        "\n",
        "sns.set(style=\"whitegrid\", context=\"talk\", palette=\"deep\")\n",
        "\n",
        "print(\"Libraries imported successfully!\")\n"
      ],
      "metadata": {
        "colab": {
          "base_uri": "https://localhost:8080/"
        },
        "id": "bX0gAtKjVy7A",
        "outputId": "6550961b-efc0-4c2e-dd01-99488c5a23de"
      },
      "execution_count": null,
      "outputs": [
        {
          "output_type": "stream",
          "name": "stdout",
          "text": [
            "Libraries imported successfully!\n"
          ]
        }
      ]
    },
    {
      "cell_type": "code",
      "source": [
        "from google.colab import files\n",
        "\n",
        "# Upload your cleaned CSV file (historical_prices_cleaned.csv)\n",
        "uploaded = files.upload()\n",
        "# Get the filename (assumes only one file is uploaded)\n",
        "filename = list(uploaded.keys())[0]\n",
        "\n",
        "# Load the data and compute returns\n",
        "prices = pd.read_csv(filename, index_col=0, parse_dates=True)\n",
        "print(\"Price Data (first 5 rows):\")\n",
        "print(prices.head())\n",
        "\n",
        "def compute_returns(prices):\n",
        "    returns = prices.pct_change(fill_method=None).dropna()\n",
        "    return returns\n",
        "\n",
        "returns = compute_returns(prices)\n",
        "print(\"Weekly Returns (first 5 rows):\")\n",
        "print(returns.head())\n"
      ],
      "metadata": {
        "colab": {
          "base_uri": "https://localhost:8080/",
          "height": 628
        },
        "id": "6ihtZVe8WAVu",
        "outputId": "a0d193fb-75a9-4dfb-bdd2-dd0746dfd8c8"
      },
      "execution_count": null,
      "outputs": [
        {
          "output_type": "display_data",
          "data": {
            "text/plain": [
              "<IPython.core.display.HTML object>"
            ],
            "text/html": [
              "\n",
              "     <input type=\"file\" id=\"files-69463bb6-2b4c-486a-82ab-7ca5b2e393ba\" name=\"files[]\" multiple disabled\n",
              "        style=\"border:none\" />\n",
              "     <output id=\"result-69463bb6-2b4c-486a-82ab-7ca5b2e393ba\">\n",
              "      Upload widget is only available when the cell has been executed in the\n",
              "      current browser session. Please rerun this cell to enable.\n",
              "      </output>\n",
              "      <script>// Copyright 2017 Google LLC\n",
              "//\n",
              "// Licensed under the Apache License, Version 2.0 (the \"License\");\n",
              "// you may not use this file except in compliance with the License.\n",
              "// You may obtain a copy of the License at\n",
              "//\n",
              "//      http://www.apache.org/licenses/LICENSE-2.0\n",
              "//\n",
              "// Unless required by applicable law or agreed to in writing, software\n",
              "// distributed under the License is distributed on an \"AS IS\" BASIS,\n",
              "// WITHOUT WARRANTIES OR CONDITIONS OF ANY KIND, either express or implied.\n",
              "// See the License for the specific language governing permissions and\n",
              "// limitations under the License.\n",
              "\n",
              "/**\n",
              " * @fileoverview Helpers for google.colab Python module.\n",
              " */\n",
              "(function(scope) {\n",
              "function span(text, styleAttributes = {}) {\n",
              "  const element = document.createElement('span');\n",
              "  element.textContent = text;\n",
              "  for (const key of Object.keys(styleAttributes)) {\n",
              "    element.style[key] = styleAttributes[key];\n",
              "  }\n",
              "  return element;\n",
              "}\n",
              "\n",
              "// Max number of bytes which will be uploaded at a time.\n",
              "const MAX_PAYLOAD_SIZE = 100 * 1024;\n",
              "\n",
              "function _uploadFiles(inputId, outputId) {\n",
              "  const steps = uploadFilesStep(inputId, outputId);\n",
              "  const outputElement = document.getElementById(outputId);\n",
              "  // Cache steps on the outputElement to make it available for the next call\n",
              "  // to uploadFilesContinue from Python.\n",
              "  outputElement.steps = steps;\n",
              "\n",
              "  return _uploadFilesContinue(outputId);\n",
              "}\n",
              "\n",
              "// This is roughly an async generator (not supported in the browser yet),\n",
              "// where there are multiple asynchronous steps and the Python side is going\n",
              "// to poll for completion of each step.\n",
              "// This uses a Promise to block the python side on completion of each step,\n",
              "// then passes the result of the previous step as the input to the next step.\n",
              "function _uploadFilesContinue(outputId) {\n",
              "  const outputElement = document.getElementById(outputId);\n",
              "  const steps = outputElement.steps;\n",
              "\n",
              "  const next = steps.next(outputElement.lastPromiseValue);\n",
              "  return Promise.resolve(next.value.promise).then((value) => {\n",
              "    // Cache the last promise value to make it available to the next\n",
              "    // step of the generator.\n",
              "    outputElement.lastPromiseValue = value;\n",
              "    return next.value.response;\n",
              "  });\n",
              "}\n",
              "\n",
              "/**\n",
              " * Generator function which is called between each async step of the upload\n",
              " * process.\n",
              " * @param {string} inputId Element ID of the input file picker element.\n",
              " * @param {string} outputId Element ID of the output display.\n",
              " * @return {!Iterable<!Object>} Iterable of next steps.\n",
              " */\n",
              "function* uploadFilesStep(inputId, outputId) {\n",
              "  const inputElement = document.getElementById(inputId);\n",
              "  inputElement.disabled = false;\n",
              "\n",
              "  const outputElement = document.getElementById(outputId);\n",
              "  outputElement.innerHTML = '';\n",
              "\n",
              "  const pickedPromise = new Promise((resolve) => {\n",
              "    inputElement.addEventListener('change', (e) => {\n",
              "      resolve(e.target.files);\n",
              "    });\n",
              "  });\n",
              "\n",
              "  const cancel = document.createElement('button');\n",
              "  inputElement.parentElement.appendChild(cancel);\n",
              "  cancel.textContent = 'Cancel upload';\n",
              "  const cancelPromise = new Promise((resolve) => {\n",
              "    cancel.onclick = () => {\n",
              "      resolve(null);\n",
              "    };\n",
              "  });\n",
              "\n",
              "  // Wait for the user to pick the files.\n",
              "  const files = yield {\n",
              "    promise: Promise.race([pickedPromise, cancelPromise]),\n",
              "    response: {\n",
              "      action: 'starting',\n",
              "    }\n",
              "  };\n",
              "\n",
              "  cancel.remove();\n",
              "\n",
              "  // Disable the input element since further picks are not allowed.\n",
              "  inputElement.disabled = true;\n",
              "\n",
              "  if (!files) {\n",
              "    return {\n",
              "      response: {\n",
              "        action: 'complete',\n",
              "      }\n",
              "    };\n",
              "  }\n",
              "\n",
              "  for (const file of files) {\n",
              "    const li = document.createElement('li');\n",
              "    li.append(span(file.name, {fontWeight: 'bold'}));\n",
              "    li.append(span(\n",
              "        `(${file.type || 'n/a'}) - ${file.size} bytes, ` +\n",
              "        `last modified: ${\n",
              "            file.lastModifiedDate ? file.lastModifiedDate.toLocaleDateString() :\n",
              "                                    'n/a'} - `));\n",
              "    const percent = span('0% done');\n",
              "    li.appendChild(percent);\n",
              "\n",
              "    outputElement.appendChild(li);\n",
              "\n",
              "    const fileDataPromise = new Promise((resolve) => {\n",
              "      const reader = new FileReader();\n",
              "      reader.onload = (e) => {\n",
              "        resolve(e.target.result);\n",
              "      };\n",
              "      reader.readAsArrayBuffer(file);\n",
              "    });\n",
              "    // Wait for the data to be ready.\n",
              "    let fileData = yield {\n",
              "      promise: fileDataPromise,\n",
              "      response: {\n",
              "        action: 'continue',\n",
              "      }\n",
              "    };\n",
              "\n",
              "    // Use a chunked sending to avoid message size limits. See b/62115660.\n",
              "    let position = 0;\n",
              "    do {\n",
              "      const length = Math.min(fileData.byteLength - position, MAX_PAYLOAD_SIZE);\n",
              "      const chunk = new Uint8Array(fileData, position, length);\n",
              "      position += length;\n",
              "\n",
              "      const base64 = btoa(String.fromCharCode.apply(null, chunk));\n",
              "      yield {\n",
              "        response: {\n",
              "          action: 'append',\n",
              "          file: file.name,\n",
              "          data: base64,\n",
              "        },\n",
              "      };\n",
              "\n",
              "      let percentDone = fileData.byteLength === 0 ?\n",
              "          100 :\n",
              "          Math.round((position / fileData.byteLength) * 100);\n",
              "      percent.textContent = `${percentDone}% done`;\n",
              "\n",
              "    } while (position < fileData.byteLength);\n",
              "  }\n",
              "\n",
              "  // All done.\n",
              "  yield {\n",
              "    response: {\n",
              "      action: 'complete',\n",
              "    }\n",
              "  };\n",
              "}\n",
              "\n",
              "scope.google = scope.google || {};\n",
              "scope.google.colab = scope.google.colab || {};\n",
              "scope.google.colab._files = {\n",
              "  _uploadFiles,\n",
              "  _uploadFilesContinue,\n",
              "};\n",
              "})(self);\n",
              "</script> "
            ]
          },
          "metadata": {}
        },
        {
          "output_type": "stream",
          "name": "stdout",
          "text": [
            "Saving historical_prices_cleaned.csv to historical_prices_cleaned (2).csv\n",
            "Price Data (first 5 rows):\n",
            "              AMZN         GE      GOOGL        HSY        MMM       MSFT  \\\n",
            "Date                                                                        \n",
            "2012-01-01  9.1305  69.240280  16.208012  44.837509  46.040127  22.132902   \n",
            "2012-01-08  8.9210  69.945709  15.583897  45.421150  46.167137  22.243130   \n",
            "2012-01-15  9.5465  71.096581  14.611446  45.465488  47.299232  23.392693   \n",
            "2012-01-22  9.7685  70.651070  14.461590  45.243847  48.298786  23.014755   \n",
            "2012-01-29  9.3840  70.613945  14.869270  45.184734  48.447895  23.809998   \n",
            "\n",
            "                  SHY  \n",
            "Date                   \n",
            "2012-01-01  71.186943  \n",
            "2012-01-08  71.245903  \n",
            "2012-01-15  71.229073  \n",
            "2012-01-22  71.304886  \n",
            "2012-01-29  71.237541  \n",
            "Weekly Returns (first 5 rows):\n",
            "                AMZN        GE     GOOGL       HSY       MMM      MSFT  \\\n",
            "Date                                                                     \n",
            "2012-01-08 -0.022945  0.010188 -0.038507  0.013017  0.002759  0.004980   \n",
            "2012-01-15  0.070116  0.016454 -0.062401  0.000976  0.024522  0.051682   \n",
            "2012-01-22  0.023255 -0.006266 -0.010256 -0.004875  0.021133 -0.016156   \n",
            "2012-01-29 -0.039361 -0.000525  0.028191 -0.001307  0.003087  0.034554   \n",
            "2012-02-05 -0.011402 -0.007361  0.016065 -0.026324 -0.006725  0.008598   \n",
            "\n",
            "                 SHY  \n",
            "Date                  \n",
            "2012-01-08  0.000828  \n",
            "2012-01-15 -0.000236  \n",
            "2012-01-22  0.001064  \n",
            "2012-01-29 -0.000944  \n",
            "2012-02-05 -0.000344  \n"
          ]
        }
      ]
    },
    {
      "cell_type": "markdown",
      "source": [
        " # Computing Key Statistics\n",
        "\n",
        "In this section, we calculate:\n",
        "- **Mean Returns:** The average return for each asset.\n",
        "- **Covariance Matrix:** A matrix that measures how the returns of different assets move together.\n",
        "\n",
        "These statistics are essential inputs for our portfolio optimization process."
      ],
      "metadata": {
        "id": "OzmAspQ9XdSZ"
      }
    },
    {
      "cell_type": "code",
      "source": [
        "\n",
        "mean_returns = returns.mean().values\n",
        "cov_matrix = returns.cov().values\n",
        "assets = returns.columns.tolist()  # e.g., [\"MSFT\", \"MMM\", \"HSY\", \"GE\", \"GOOGL\", \"AMZN\", \"SHY\"]\n",
        "\n",
        "print(\"Assets:\", assets)\n",
        "print(\"Mean Returns:\", mean_returns)\n",
        "print(\"Covariance Matrix:\\n\", cov_matrix)\n"
      ],
      "metadata": {
        "colab": {
          "base_uri": "https://localhost:8080/"
        },
        "id": "hvDDL4uDWEmd",
        "outputId": "ffb710cf-0bb9-4d5a-de2c-44565ebe3701"
      },
      "execution_count": null,
      "outputs": [
        {
          "output_type": "stream",
          "name": "stdout",
          "text": [
            "Assets: ['AMZN', 'GE', 'GOOGL', 'HSY', 'MMM', 'MSFT', 'SHY']\n",
            "Mean Returns: [0.00537618 0.0015733  0.00409927 0.00257166 0.00148001 0.00505033\n",
            " 0.00015577]\n",
            "Covariance Matrix:\n",
            " [[ 1.74927751e-03  4.04517479e-04  8.59872377e-04  1.27103538e-04\n",
            "   3.60181369e-04  6.97895695e-04  1.46205402e-06]\n",
            " [ 4.04517479e-04  1.93058787e-03  5.22885364e-04  2.23028823e-04\n",
            "   6.18470322e-04  3.88525477e-04 -8.05138190e-06]\n",
            " [ 8.59872377e-04  5.22885364e-04  1.32987492e-03  2.17542193e-04\n",
            "   4.28311880e-04  7.04746724e-04  2.42181680e-07]\n",
            " [ 1.27103538e-04  2.23028823e-04  2.17542193e-04  6.95611431e-04\n",
            "   2.46724738e-04  2.63524046e-04 -4.97763350e-08]\n",
            " [ 3.60181369e-04  6.18470322e-04  4.28311880e-04  2.46724738e-04\n",
            "   8.82381535e-04  3.95915765e-04 -3.11998070e-06]\n",
            " [ 6.97895695e-04  3.88525477e-04  7.04746724e-04  2.63524046e-04\n",
            "   3.95915765e-04  1.04924533e-03  1.12088568e-06]\n",
            " [ 1.46205402e-06 -8.05138190e-06  2.42181680e-07 -4.97763350e-08\n",
            "  -3.11998070e-06  1.12088568e-06  3.08820111e-06]]\n"
          ]
        }
      ]
    },
    {
      "cell_type": "markdown",
      "source": [
        "## Defining the Optimization Functions\n",
        "\n",
        "We define a set of functions to construct the efficient frontier and identify the optimal portfolio:"
      ],
      "metadata": {
        "id": "pnPNzMLBXnMn"
      }
    },
    {
      "cell_type": "code",
      "source": [
        "\n",
        "def make_port(means, covariance, assets=None, max_allocation=0.5, min_allocation=0.0,\n",
        "              risk_premium_up=0.5, risk_increment=0.005):\n",
        "\n",
        "    #Constructs the efficient frontier using mean-variance optimization.\n",
        "    #Returns a DataFrame with asset weights, portfolio risk, expected return, and Sharpe ratio.\n",
        "\n",
        "    n = len(means)\n",
        "    if assets is None:\n",
        "        assets = [f\"Asset_{i+1}\" for i in range(n)]\n",
        "    risk_premiums = np.arange(0, risk_premium_up + risk_increment, risk_increment)\n",
        "    portfolio_list = []\n",
        "    bounds = [(min_allocation, max_allocation)] * n\n",
        "    constraints = [{'type': 'eq', 'fun': lambda w: np.sum(w) - 1}]\n",
        "\n",
        "    def objective(x, rp):\n",
        "        return 0.5 * np.dot(x, np.dot(covariance, x)) - np.dot(rp * means, x)\n",
        "\n",
        "    for rp in risk_premiums:\n",
        "        res = minimize(objective, np.repeat(1/n, n), args=(rp,), method='SLSQP', bounds=bounds, constraints=constraints)\n",
        "        if res.success:\n",
        "            w = np.round(res.x, 4)\n",
        "            risk = np.sqrt(np.dot(w, np.dot(covariance, w)))\n",
        "            ret = np.dot(w, means)\n",
        "            sharpe = ret / risk if risk > 0 else np.nan\n",
        "            portfolio_list.append(np.concatenate((w, [risk, ret, sharpe])))\n",
        "\n",
        "    cols = assets + [\"Std.Dev\", \"Exp.Return\", \"Sharpe\"]\n",
        "    return pd.DataFrame(portfolio_list, columns=cols)\n",
        "\n",
        "def naive_portfolio(means, covariance, max_alloc=0.5, min_alloc=-0.5, assets=None):\n",
        "\n",
        "    #Constructs a naive optimal portfolio by maximizing the Sharpe ratio.\n",
        "\n",
        "    eff = make_port(means, covariance, assets=assets, max_allocation=max_alloc, min_allocation=min_alloc)\n",
        "    optimal = eff.loc[eff[\"Sharpe\"].idxmax()]\n",
        "    return optimal\n",
        "\n",
        "def port_performance(opt_port, test_returns):\n",
        "\n",
        "   #Computes cumulative portfolio returns on test data.\n",
        "   #Returns a dictionary with cumulative returns, test returns index, and weight vector.\n",
        "\n",
        "    n = len(opt_port) - 3  # First n entries are asset weights\n",
        "    weights = opt_port.iloc[:n].values\n",
        "    port_ret = test_returns.dot(weights)\n",
        "    tret = (port_ret + 1).cumprod().values\n",
        "    return {\"tret\": tret, \"tlab\": test_returns.index, \"weights\": weights}\n",
        "\n",
        "def port_summary_updated(test_returns, weights):\n",
        "\n",
        "    #Computes annualized return, risk, and Sharpe ratio (assuming weekly data) using the provided weights.\n",
        "\n",
        "    port_ret = test_returns.dot(weights)\n",
        "    ann_return = 52 * np.mean(port_ret)\n",
        "    ann_risk = np.sqrt(52) * np.std(port_ret)\n",
        "    sharpe_ratio = ann_return / ann_risk if ann_risk > 0 else np.nan\n",
        "    return ann_return, ann_risk, sharpe_ratio\n"
      ],
      "metadata": {
        "id": "0jTtKyw3WHif"
      },
      "execution_count": null,
      "outputs": []
    },
    {
      "cell_type": "markdown",
      "source": [
        "## Constructing the Optimal Portfolio\n",
        "\n",
        "We use the `naive_portfolio` function to determine the optimal portfolio configuration that maximizes the Sharpe ratio. The result provides the optimal asset weights along with the associated portfolio risk and expected return."
      ],
      "metadata": {
        "id": "enng0xDmYBlo"
      }
    },
    {
      "cell_type": "code",
      "source": [
        "\n",
        "naive_opt = naive_portfolio(mean_returns, cov_matrix, max_alloc=0.5, min_alloc=-0.5, assets=assets)\n",
        "print(\"Naive Optimal Portfolio:\")\n",
        "print(naive_opt)\n"
      ],
      "metadata": {
        "colab": {
          "base_uri": "https://localhost:8080/"
        },
        "id": "MADY-n0GXR8W",
        "outputId": "2da74407-93bf-4689-cb3b-ee790f8ffffe"
      },
      "execution_count": null,
      "outputs": [
        {
          "output_type": "stream",
          "name": "stdout",
          "text": [
            "Naive Optimal Portfolio:\n",
            "AMZN          0.500000\n",
            "GE           -0.163500\n",
            "GOOGL         0.423000\n",
            "HSY           0.496400\n",
            "MMM          -0.255900\n",
            "MSFT          0.500000\n",
            "SHY          -0.500000\n",
            "Std.Dev       0.044457\n",
            "Exp.Return    0.007510\n",
            "Sharpe        0.168928\n",
            "Name: 81, dtype: float64\n"
          ]
        }
      ]
    },
    {
      "cell_type": "markdown",
      "source": [
        "## Visualizing the Efficient Frontier\n",
        "\n",
        "The efficient frontier illustrates the trade-off between risk (standard deviation) and expected return for various portfolios. The optimal portfolio is highlighted on this plot."
      ],
      "metadata": {
        "id": "bY86DmJNYLgr"
      }
    },
    {
      "cell_type": "code",
      "source": [
        "\n",
        "def plot_efficient_frontier(df, optimal_point):\n",
        "\n",
        "    # Plots the efficient frontier and highlights the optimal portfolio.\n",
        "\n",
        "    plt.figure(figsize=(10, 7))\n",
        "    plt.scatter(df[\"Std.Dev\"], df[\"Exp.Return\"], c=df[\"Sharpe\"], cmap=\"viridis\", marker=\"o\")\n",
        "    plt.colorbar(label=\"Sharpe Ratio\")\n",
        "    optimal = optimal_point\n",
        "    plt.scatter(optimal[\"Std.Dev\"], optimal[\"Exp.Return\"], c=\"red\", marker=\"*\", s=200, label=\"Optimal Portfolio\")\n",
        "    plt.xlabel(\"Risk (Std. Deviation)\")\n",
        "    plt.ylabel(\"Expected Return\")\n",
        "    plt.title(\"Efficient Frontier\")\n",
        "    plt.legend()\n",
        "    plt.tight_layout()\n",
        "    plt.show()\n",
        "\n",
        "# Generate efficient frontier data\n",
        "eff_df = make_port(mean_returns, cov_matrix, assets=assets, max_allocation=0.5, min_allocation=-0.5)\n",
        "plot_efficient_frontier(eff_df, naive_opt)\n"
      ],
      "metadata": {
        "colab": {
          "base_uri": "https://localhost:8080/",
          "height": 683
        },
        "id": "YXarqvXRXeqI",
        "outputId": "65a77567-fe89-4a3a-e37f-6511e321f3b8"
      },
      "execution_count": null,
      "outputs": [
        {
          "output_type": "display_data",
          "data": {
            "text/plain": [
              "<Figure size 1000x700 with 2 Axes>"
            ],
            "image/png": "[encoded data removed]"
          },
          "metadata": {}
        }
      ]
    },
    {
      "cell_type": "markdown",
      "source": [
        "## Evaluating Portfolio Performance\n",
        "\n",
        "We assess the performance of the optimal portfolio by computing:\n",
        "- **Cumulative Returns:** The compounded return over time.\n",
        "- **Annualized Return:** The average return per year.\n",
        "- **Annualized Risk:** The risk (standard deviation) scaled to an annual basis.\n",
        "- **Sharpe Ratio:** The risk-adjusted return."
      ],
      "metadata": {
        "id": "ajLFVQhFYQDO"
      }
    },
    {
      "cell_type": "code",
      "source": [
        "\n",
        "naive_weights = naive_opt[assets].values\n",
        "performance = port_performance(naive_opt, returns)\n",
        "summary_stats = port_summary_updated(returns, naive_weights)\n",
        "\n",
        "print(\"Naive Portfolio Performance Summary (Annualized):\")\n",
        "print(f\"Annualized Return: {summary_stats[0]:.4f}\")\n",
        "print(f\"Annualized Risk  : {summary_stats[1]:.4f}\")\n",
        "print(f\"Sharpe Ratio     : {summary_stats[2]:.4f}\")\n"
      ],
      "metadata": {
        "colab": {
          "base_uri": "https://localhost:8080/"
        },
        "id": "StsMv4luZa_m",
        "outputId": "2ef2a573-f4b1-4fae-f0ac-8ed0c202c472"
      },
      "execution_count": null,
      "outputs": [
        {
          "output_type": "stream",
          "name": "stdout",
          "text": [
            "Naive Portfolio Performance Summary (Annualized):\n",
            "Annualized Return: 0.3905\n",
            "Annualized Risk  : 0.3203\n",
            "Sharpe Ratio     : 1.2191\n"
          ]
        }
      ]
    },
    {
      "cell_type": "markdown",
      "source": [
        "## Interactive Visualization of Cumulative Returns\n",
        "\n",
        "We use Plotly to create an interactive line chart that displays the cumulative returns of the optimal portfolio over time."
      ],
      "metadata": {
        "id": "xN3bVyzxYVFX"
      }
    },
    {
      "cell_type": "code",
      "source": [
        "\n",
        "import plotly.express as px\n",
        "\n",
        "cum_returns = performance[\"tret\"]\n",
        "cum_returns_df = pd.DataFrame({\n",
        "    \"Date\": returns.index,\n",
        "    \"Cumulative Return\": cum_returns\n",
        "})\n",
        "\n",
        "fig = px.line(cum_returns_df, x=\"Date\", y=\"Cumulative Return\",\n",
        "              title=\"Interactive Cumulative Returns - Naive Portfolio\",\n",
        "              labels={\"Cumulative Return\": \"Cumulative Return\"})\n",
        "fig.update_layout(title_font_size=24, xaxis_title=\"Date\", yaxis_title=\"Cumulative Return\")\n",
        "fig.show()\n"
      ],
      "metadata": {
        "colab": {
          "base_uri": "https://localhost:8080/",
          "height": 542
        },
        "id": "wRyEFVihZeH-",
        "outputId": "9d8aee50-3189-4547-a632-eef8af132f3c"
      },
      "execution_count": null,
      "outputs": [
        {
          "output_type": "display_data",
          "data": {
            "text/html": [
              "<html>\n",
              "<head><meta charset=\"utf-8\" /></head>\n",
              "<body>\n",
              "    <div>            <script src=\"https://cdnjs.cloudflare.com/ajax/libs/mathjax/2.7.5/MathJax.js?config=TeX-AMS-MML_SVG\"></script><script type=\"text/javascript\">if (window.MathJax && window.MathJax.Hub && window.MathJax.Hub.Config) {window.MathJax.Hub.Config({SVG: {font: \"STIX-Web\"}});}</script>                <script type=\"text/javascript\">window.PlotlyConfig = {MathJaxConfig: 'local'};</script>\n",
              "        <script charset=\"utf-8\" src=\"https://cdn.plot.ly/plotly-2.35.2.min.js\"></script>                <div id=\"7c0347a8-f8a2-4c68-8ee1-d719292fb33f\" class=\"plotly-graph-div\" style=\"height:525px; width:100%;\"></div>            <script type=\"text/javascript\">                                    window.PLOTLYENV=window.PLOTLYENV || {};                                    if (document.getElementById(\"7c0347a8-f8a2-4c68-8ee1-d719292fb33f\")) {                    Plotly.newPlot(                        \"7c0347a8-f8a2-4c68-8ee1-d719292fb33f\",                        [{\"hovertemplate\":\"Date=%{x}\\u003cbr\\u003eCumulative Return=%{y}\\u003cextra\\u003e\\u003c\\u002fextra\\u003e\",\"legendgroup\":\"\",\"line\":{\"color\":\"#636efa\",\"dash\":\"solid\"},\"marker\":{\"symbol\":\"circle\"},\"mode\":\"lines\",\"name\":\"\",\"orientation\":\"v\",\"showlegend\":false,\"x\":[\"2012-01-08T00:00:00\",\"2012-01-15T00:00:00\",\"2012-01-22T00:00:00\",\"2012-01-29T00:00:00\",\"2012-02-05T00:00:00\",\"2012-02-12T00:00:00\",\"2012-02-19T00:00:00\",\"2012-02-26T00:00:00\",\"2012-03-04T00:00:00\",\"2012-03-11T00:00:00\",\"2012-03-18T00:00:00\",\"2012-03-25T00:00:00\",\"2012-04-01T00:00:00\",\"2012-04-08T00:00:00\",\"2012-04-15T00:00:00\",\"2012-04-22T00:00:00\",\"2012-04-29T00:00:00\",\"2012-05-06T00:00:00\",\"2012-05-13T00:00:00\",\"2012-05-20T00:00:00\",\"2012-05-27T00:00:00\",\"2012-06-03T00:00:00\",\"2012-06-10T00:00:00\",\"2012-06-17T00:00:00\",\"2012-06-24T00:00:00\",\"2012-07-01T00:00:00\",\"2012-07-08T00:00:00\",\"2012-07-15T00:00:00\",\"2012-07-22T00:00:00\",\"2012-07-29T00:00:00\",\"2012-08-05T00:00:00\",\"2012-08-12T00:00:00\",\"2012-08-19T00:00:00\",\"2012-08-26T00:00:00\",\"2012-09-02T00:00:00\",\"2012-09-09T00:00:00\",\"2012-09-16T00:00:00\",\"2012-09-23T00:00:00\",\"2012-09-30T00:00:00\",\"2012-10-07T00:00:00\",\"2012-10-14T00:00:00\",\"2012-10-21T00:00:00\",\"2012-10-28T00:00:00\",\"2012-11-04T00:00:00\",\"2012-11-11T00:00:00\",\"2012-11-18T00:00:00\",\"2012-11-25T00:00:00\",\"2012-12-02T00:00:00\",\"2012-12-09T00:00:00\",\"2012-12-16T00:00:00\",\"2012-12-23T00:00:00\",\"2012-12-30T00:00:00\",\"2013-01-06T00:00:00\",\"2013-01-13T00:00:00\",\"2013-01-20T00:00:00\",\"2013-01-27T00:00:00\",\"2013-02-03T00:00:00\",\"2013-02-10T00:00:00\",\"2013-02-17T00:00:00\",\"2013-02-24T00:00:00\",\"2013-03-03T00:00:00\",\"2013-03-10T00:00:00\",\"2013-03-17T00:00:00\",\"2013-03-24T00:00:00\",\"2013-03-31T00:00:00\",\"2013-04-07T00:00:00\",\"2013-04-14T00:00:00\",\"2013-04-21T00:00:00\",\"2013-04-28T00:00:00\",\"2013-05-05T00:00:00\",\"2013-05-12T00:00:00\",\"2013-05-19T00:00:00\",\"2013-05-26T00:00:00\",\"2013-06-02T00:00:00\",\"2013-06-09T00:00:00\",\"2013-06-16T00:00:00\",\"2013-06-23T00:00:00\",\"2013-06-30T00:00:00\",\"2013-07-07T00:00:00\",\"2013-07-14T00:00:00\",\"2013-07-21T00:00:00\",\"2013-07-28T00:00:00\",\"2013-08-04T00:00:00\",\"2013-08-11T00:00:00\",\"2013-08-18T00:00:00\",\"2013-08-25T00:00:00\",\"2013-09-01T00:00:00\",\"2013-09-08T00:00:00\",\"2013-09-15T00:00:00\",\"2013-09-22T00:00:00\",\"2013-09-29T00:00:00\",\"2013-10-06T00:00:00\",\"2013-10-13T00:00:00\",\"2013-10-20T00:00:00\",\"2013-10-27T00:00:00\",\"2013-11-03T00:00:00\",\"2013-11-10T00:00:00\",\"2013-11-17T00:00:00\",\"2013-11-24T00:00:00\",\"2013-12-01T00:00:00\",\"2013-12-08T00:00:00\",\"2013-12-15T00:00:00\",\"2013-12-22T00:00:00\",\"2013-12-29T00:00:00\",\"2014-01-05T00:00:00\",\"2014-01-12T00:00:00\",\"2014-01-19T00:00:00\",\"2014-01-26T00:00:00\",\"2014-02-02T00:00:00\",\"2014-02-09T00:00:00\",\"2014-02-16T00:00:00\",\"2014-02-23T00:00:00\",\"2014-03-02T00:00:00\",\"2014-03-09T00:00:00\",\"2014-03-16T00:00:00\",\"2014-03-23T00:00:00\",\"2014-03-30T00:00:00\",\"2014-04-06T00:00:00\",\"2014-04-13T00:00:00\",\"2014-04-20T00:00:00\",\"2014-04-27T00:00:00\",\"2014-05-04T00:00:00\",\"2014-05-11T00:00:00\",\"2014-05-18T00:00:00\",\"2014-05-25T00:00:00\",\"2014-06-01T00:00:00\",\"2014-06-08T00:00:00\",\"2014-06-15T00:00:00\",\"2014-06-22T00:00:00\",\"2014-06-29T00:00:00\",\"2014-07-06T00:00:00\",\"2014-07-13T00:00:00\",\"2014-07-20T00:00:00\",\"2014-07-27T00:00:00\",\"2014-08-03T00:00:00\",\"2014-08-10T00:00:00\",\"2014-08-17T00:00:00\",\"2014-08-24T00:00:00\",\"2014-08-31T00:00:00\",\"2014-09-07T00:00:00\",\"2014-09-14T00:00:00\",\"2014-09-21T00:00:00\",\"2014-09-28T00:00:00\",\"2014-10-05T00:00:00\",\"2014-10-12T00:00:00\",\"2014-10-19T00:00:00\",\"2014-10-26T00:00:00\",\"2014-11-02T00:00:00\",\"2014-11-09T00:00:00\",\"2014-11-16T00:00:00\",\"2014-11-23T00:00:00\",\"2014-11-30T00:00:00\",\"2014-12-07T00:00:00\",\"2014-12-14T00:00:00\",\"2014-12-21T00:00:00\",\"2014-12-28T00:00:00\",\"2015-01-04T00:00:00\",\"2015-01-11T00:00:00\",\"2015-01-18T00:00:00\",\"2015-01-25T00:00:00\",\"2015-02-01T00:00:00\",\"2015-02-08T00:00:00\",\"2015-02-15T00:00:00\",\"2015-02-22T00:00:00\",\"2015-03-01T00:00:00\",\"2015-03-08T00:00:00\",\"2015-03-15T00:00:00\",\"2015-03-22T00:00:00\",\"2015-03-29T00:00:00\",\"2015-04-05T00:00:00\",\"2015-04-12T00:00:00\",\"2015-04-19T00:00:00\",\"2015-04-26T00:00:00\",\"2015-05-03T00:00:00\",\"2015-05-10T00:00:00\",\"2015-05-17T00:00:00\",\"2015-05-24T00:00:00\",\"2015-05-31T00:00:00\",\"2015-06-07T00:00:00\",\"2015-06-14T00:00:00\",\"2015-06-21T00:00:00\",\"2015-06-28T00:00:00\",\"2015-07-05T00:00:00\",\"2015-07-12T00:00:00\",\"2015-07-19T00:00:00\",\"2015-07-26T00:00:00\",\"2015-08-02T00:00:00\",\"2015-08-09T00:00:00\",\"2015-08-16T00:00:00\",\"2015-08-23T00:00:00\",\"2015-08-30T00:00:00\",\"2015-09-06T00:00:00\",\"2015-09-13T00:00:00\",\"2015-09-20T00:00:00\",\"2015-09-27T00:00:00\",\"2015-10-04T00:00:00\",\"2015-10-11T00:00:00\",\"2015-10-18T00:00:00\",\"2015-10-25T00:00:00\",\"2015-11-01T00:00:00\",\"2015-11-08T00:00:00\",\"2015-11-15T00:00:00\",\"2015-11-22T00:00:00\",\"2015-11-29T00:00:00\",\"2015-12-06T00:00:00\",\"2015-12-13T00:00:00\",\"2015-12-20T00:00:00\",\"2015-12-27T00:00:00\",\"2016-01-03T00:00:00\",\"2016-01-10T00:00:00\",\"2016-01-17T00:00:00\",\"2016-01-24T00:00:00\",\"2016-01-31T00:00:00\",\"2016-02-07T00:00:00\",\"2016-02-14T00:00:00\",\"2016-02-21T00:00:00\",\"2016-02-28T00:00:00\",\"2016-03-06T00:00:00\",\"2016-03-13T00:00:00\",\"2016-03-20T00:00:00\",\"2016-03-27T00:00:00\",\"2016-04-03T00:00:00\",\"2016-04-10T00:00:00\",\"2016-04-17T00:00:00\",\"2016-04-24T00:00:00\",\"2016-05-01T00:00:00\",\"2016-05-08T00:00:00\",\"2016-05-15T00:00:00\",\"2016-05-22T00:00:00\",\"2016-05-29T00:00:00\",\"2016-06-05T00:00:00\",\"2016-06-12T00:00:00\",\"2016-06-19T00:00:00\",\"2016-06-26T00:00:00\",\"2016-07-03T00:00:00\",\"2016-07-10T00:00:00\",\"2016-07-17T00:00:00\",\"2016-07-24T00:00:00\",\"2016-07-31T00:00:00\",\"2016-08-07T00:00:00\",\"2016-08-14T00:00:00\",\"2016-08-21T00:00:00\",\"2016-08-28T00:00:00\",\"2016-09-04T00:00:00\",\"2016-09-11T00:00:00\",\"2016-09-18T00:00:00\",\"2016-09-25T00:00:00\",\"2016-10-02T00:00:00\",\"2016-10-09T00:00:00\",\"2016-10-16T00:00:00\",\"2016-10-23T00:00:00\",\"2016-10-30T00:00:00\",\"2016-11-06T00:00:00\",\"2016-11-13T00:00:00\",\"2016-11-20T00:00:00\",\"2016-11-27T00:00:00\",\"2016-12-04T00:00:00\",\"2016-12-11T00:00:00\",\"2016-12-18T00:00:00\",\"2016-12-25T00:00:00\",\"2017-01-01T00:00:00\",\"2017-01-08T00:00:00\",\"2017-01-15T00:00:00\",\"2017-01-22T00:00:00\",\"2017-01-29T00:00:00\",\"2017-02-05T00:00:00\",\"2017-02-12T00:00:00\",\"2017-02-19T00:00:00\",\"2017-02-26T00:00:00\",\"2017-03-05T00:00:00\",\"2017-03-12T00:00:00\",\"2017-03-19T00:00:00\",\"2017-03-26T00:00:00\",\"2017-04-02T00:00:00\",\"2017-04-09T00:00:00\",\"2017-04-16T00:00:00\",\"2017-04-23T00:00:00\",\"2017-04-30T00:00:00\",\"2017-05-07T00:00:00\",\"2017-05-14T00:00:00\",\"2017-05-21T00:00:00\",\"2017-05-28T00:00:00\",\"2017-06-04T00:00:00\",\"2017-06-11T00:00:00\",\"2017-06-18T00:00:00\",\"2017-06-25T00:00:00\",\"2017-07-02T00:00:00\",\"2017-07-09T00:00:00\",\"2017-07-16T00:00:00\",\"2017-07-23T00:00:00\",\"2017-07-30T00:00:00\",\"2017-08-06T00:00:00\",\"2017-08-13T00:00:00\",\"2017-08-20T00:00:00\",\"2017-08-27T00:00:00\",\"2017-09-03T00:00:00\",\"2017-09-10T00:00:00\",\"2017-09-17T00:00:00\",\"2017-09-24T00:00:00\",\"2017-10-01T00:00:00\",\"2017-10-08T00:00:00\",\"2017-10-15T00:00:00\",\"2017-10-22T00:00:00\",\"2017-10-29T00:00:00\",\"2017-11-05T00:00:00\",\"2017-11-12T00:00:00\",\"2017-11-19T00:00:00\",\"2017-11-26T00:00:00\",\"2017-12-03T00:00:00\",\"2017-12-10T00:00:00\",\"2017-12-17T00:00:00\",\"2017-12-24T00:00:00\",\"2017-12-31T00:00:00\",\"2018-01-07T00:00:00\",\"2018-01-14T00:00:00\",\"2018-01-21T00:00:00\",\"2018-01-28T00:00:00\",\"2018-02-04T00:00:00\",\"2018-02-11T00:00:00\",\"2018-02-18T00:00:00\",\"2018-02-25T00:00:00\",\"2018-03-04T00:00:00\",\"2018-03-11T00:00:00\",\"2018-03-18T00:00:00\",\"2018-03-25T00:00:00\",\"2018-04-01T00:00:00\",\"2018-04-08T00:00:00\",\"2018-04-15T00:00:00\",\"2018-04-22T00:00:00\",\"2018-04-29T00:00:00\",\"2018-05-06T00:00:00\",\"2018-05-13T00:00:00\",\"2018-05-20T00:00:00\",\"2018-05-27T00:00:00\",\"2018-06-03T00:00:00\",\"2018-06-10T00:00:00\",\"2018-06-17T00:00:00\",\"2018-06-24T00:00:00\",\"2018-07-01T00:00:00\",\"2018-07-08T00:00:00\",\"2018-07-15T00:00:00\",\"2018-07-22T00:00:00\",\"2018-07-29T00:00:00\",\"2018-08-05T00:00:00\",\"2018-08-12T00:00:00\",\"2018-08-19T00:00:00\",\"2018-08-26T00:00:00\",\"2018-09-02T00:00:00\",\"2018-09-09T00:00:00\",\"2018-09-16T00:00:00\",\"2018-09-23T00:00:00\",\"2018-09-30T00:00:00\",\"2018-10-07T00:00:00\",\"2018-10-14T00:00:00\",\"2018-10-21T00:00:00\",\"2018-10-28T00:00:00\",\"2018-11-04T00:00:00\",\"2018-11-11T00:00:00\",\"2018-11-18T00:00:00\",\"2018-11-25T00:00:00\",\"2018-12-02T00:00:00\",\"2018-12-09T00:00:00\",\"2018-12-16T00:00:00\",\"2018-12-23T00:00:00\",\"2018-12-30T00:00:00\",\"2019-01-06T00:00:00\",\"2019-01-13T00:00:00\",\"2019-01-20T00:00:00\",\"2019-01-27T00:00:00\",\"2019-02-03T00:00:00\",\"2019-02-10T00:00:00\",\"2019-02-17T00:00:00\",\"2019-02-24T00:00:00\",\"2019-03-03T00:00:00\",\"2019-03-10T00:00:00\",\"2019-03-17T00:00:00\",\"2019-03-24T00:00:00\",\"2019-03-31T00:00:00\",\"2019-04-07T00:00:00\",\"2019-04-14T00:00:00\",\"2019-04-21T00:00:00\",\"2019-04-28T00:00:00\",\"2019-05-05T00:00:00\",\"2019-05-12T00:00:00\",\"2019-05-19T00:00:00\",\"2019-05-26T00:00:00\",\"2019-06-02T00:00:00\",\"2019-06-09T00:00:00\",\"2019-06-16T00:00:00\",\"2019-06-23T00:00:00\",\"2019-06-30T00:00:00\",\"2019-07-07T00:00:00\",\"2019-07-14T00:00:00\",\"2019-07-21T00:00:00\",\"2019-07-28T00:00:00\",\"2019-08-04T00:00:00\",\"2019-08-11T00:00:00\",\"2019-08-18T00:00:00\",\"2019-08-25T00:00:00\",\"2019-09-01T00:00:00\",\"2019-09-08T00:00:00\",\"2019-09-15T00:00:00\",\"2019-09-22T00:00:00\",\"2019-09-29T00:00:00\",\"2019-10-06T00:00:00\",\"2019-10-13T00:00:00\",\"2019-10-20T00:00:00\",\"2019-10-27T00:00:00\",\"2019-11-03T00:00:00\",\"2019-11-10T00:00:00\",\"2019-11-17T00:00:00\",\"2019-11-24T00:00:00\",\"2019-12-01T00:00:00\",\"2019-12-08T00:00:00\",\"2019-12-15T00:00:00\",\"2019-12-22T00:00:00\",\"2019-12-29T00:00:00\",\"2020-01-05T00:00:00\",\"2020-01-12T00:00:00\",\"2020-01-19T00:00:00\",\"2020-01-26T00:00:00\",\"2020-02-02T00:00:00\",\"2020-02-09T00:00:00\",\"2020-02-16T00:00:00\",\"2020-02-23T00:00:00\",\"2020-03-01T00:00:00\",\"2020-03-08T00:00:00\",\"2020-03-15T00:00:00\",\"2020-03-22T00:00:00\",\"2020-03-29T00:00:00\",\"2020-04-05T00:00:00\",\"2020-04-12T00:00:00\",\"2020-04-19T00:00:00\",\"2020-04-26T00:00:00\",\"2020-05-03T00:00:00\",\"2020-05-10T00:00:00\",\"2020-05-17T00:00:00\",\"2020-05-24T00:00:00\",\"2020-05-31T00:00:00\",\"2020-06-07T00:00:00\",\"2020-06-14T00:00:00\",\"2020-06-21T00:00:00\",\"2020-06-28T00:00:00\",\"2020-07-05T00:00:00\",\"2020-07-12T00:00:00\",\"2020-07-19T00:00:00\",\"2020-07-26T00:00:00\",\"2020-08-02T00:00:00\",\"2020-08-09T00:00:00\",\"2020-08-16T00:00:00\",\"2020-08-23T00:00:00\",\"2020-08-30T00:00:00\",\"2020-09-06T00:00:00\",\"2020-09-13T00:00:00\",\"2020-09-20T00:00:00\",\"2020-09-27T00:00:00\",\"2020-10-04T00:00:00\",\"2020-10-11T00:00:00\",\"2020-10-18T00:00:00\",\"2020-10-25T00:00:00\",\"2020-11-01T00:00:00\",\"2020-11-08T00:00:00\",\"2020-11-15T00:00:00\",\"2020-11-22T00:00:00\",\"2020-11-29T00:00:00\",\"2020-12-06T00:00:00\",\"2020-12-13T00:00:00\",\"2020-12-20T00:00:00\",\"2020-12-27T00:00:00\",\"2021-01-03T00:00:00\",\"2021-01-10T00:00:00\",\"2021-01-17T00:00:00\",\"2021-01-24T00:00:00\",\"2021-01-31T00:00:00\",\"2021-02-07T00:00:00\",\"2021-02-14T00:00:00\",\"2021-02-21T00:00:00\",\"2021-02-28T00:00:00\",\"2021-03-07T00:00:00\",\"2021-03-14T00:00:00\",\"2021-03-21T00:00:00\",\"2021-03-28T00:00:00\",\"2021-04-04T00:00:00\",\"2021-04-11T00:00:00\",\"2021-04-18T00:00:00\",\"2021-04-25T00:00:00\",\"2021-05-02T00:00:00\",\"2021-05-09T00:00:00\",\"2021-05-16T00:00:00\",\"2021-05-23T00:00:00\",\"2021-05-30T00:00:00\",\"2021-06-06T00:00:00\",\"2021-06-13T00:00:00\",\"2021-06-20T00:00:00\",\"2021-06-27T00:00:00\",\"2021-07-04T00:00:00\",\"2021-07-11T00:00:00\",\"2021-07-18T00:00:00\",\"2021-07-25T00:00:00\",\"2021-08-01T00:00:00\",\"2021-08-08T00:00:00\",\"2021-08-15T00:00:00\",\"2021-08-22T00:00:00\",\"2021-08-29T00:00:00\",\"2021-09-05T00:00:00\",\"2021-09-12T00:00:00\",\"2021-09-19T00:00:00\",\"2021-09-26T00:00:00\",\"2021-10-03T00:00:00\",\"2021-10-10T00:00:00\",\"2021-10-17T00:00:00\",\"2021-10-24T00:00:00\",\"2021-10-31T00:00:00\",\"2021-11-07T00:00:00\",\"2021-11-14T00:00:00\",\"2021-11-21T00:00:00\",\"2021-11-28T00:00:00\",\"2021-12-05T00:00:00\",\"2021-12-12T00:00:00\",\"2021-12-19T00:00:00\",\"2021-12-26T00:00:00\",\"2022-01-02T00:00:00\",\"2022-01-09T00:00:00\",\"2022-01-16T00:00:00\",\"2022-01-23T00:00:00\",\"2022-01-30T00:00:00\",\"2022-02-06T00:00:00\",\"2022-02-13T00:00:00\",\"2022-02-20T00:00:00\",\"2022-02-27T00:00:00\",\"2022-03-06T00:00:00\",\"2022-03-13T00:00:00\",\"2022-03-20T00:00:00\",\"2022-03-27T00:00:00\",\"2022-04-03T00:00:00\",\"2022-04-10T00:00:00\",\"2022-04-17T00:00:00\",\"2022-04-24T00:00:00\",\"2022-05-01T00:00:00\",\"2022-05-08T00:00:00\",\"2022-05-15T00:00:00\",\"2022-05-22T00:00:00\",\"2022-05-29T00:00:00\",\"2022-06-05T00:00:00\",\"2022-06-12T00:00:00\",\"2022-06-19T00:00:00\",\"2022-06-26T00:00:00\",\"2022-07-03T00:00:00\",\"2022-07-10T00:00:00\",\"2022-07-17T00:00:00\",\"2022-07-24T00:00:00\",\"2022-07-31T00:00:00\",\"2022-08-07T00:00:00\",\"2022-08-14T00:00:00\",\"2022-08-21T00:00:00\",\"2022-08-28T00:00:00\",\"2022-09-04T00:00:00\",\"2022-09-11T00:00:00\",\"2022-09-18T00:00:00\",\"2022-09-25T00:00:00\",\"2022-10-02T00:00:00\",\"2022-10-09T00:00:00\",\"2022-10-16T00:00:00\",\"2022-10-23T00:00:00\",\"2022-10-30T00:00:00\",\"2022-11-06T00:00:00\",\"2022-11-13T00:00:00\",\"2022-11-20T00:00:00\",\"2022-11-27T00:00:00\",\"2022-12-04T00:00:00\",\"2022-12-11T00:00:00\",\"2022-12-18T00:00:00\",\"2022-12-25T00:00:00\",\"2023-01-01T00:00:00\",\"2023-01-08T00:00:00\",\"2023-01-15T00:00:00\",\"2023-01-22T00:00:00\",\"2023-01-29T00:00:00\",\"2023-02-05T00:00:00\",\"2023-02-12T00:00:00\",\"2023-02-19T00:00:00\",\"2023-02-26T00:00:00\",\"2023-03-05T00:00:00\",\"2023-03-12T00:00:00\",\"2023-03-19T00:00:00\",\"2023-03-26T00:00:00\",\"2023-04-02T00:00:00\",\"2023-04-09T00:00:00\",\"2023-04-16T00:00:00\",\"2023-04-23T00:00:00\",\"2023-04-30T00:00:00\",\"2023-05-07T00:00:00\",\"2023-05-14T00:00:00\",\"2023-05-21T00:00:00\",\"2023-05-28T00:00:00\",\"2023-06-04T00:00:00\",\"2023-06-11T00:00:00\",\"2023-06-18T00:00:00\",\"2023-06-25T00:00:00\",\"2023-07-02T00:00:00\",\"2023-07-09T00:00:00\",\"2023-07-16T00:00:00\",\"2023-07-23T00:00:00\",\"2023-07-30T00:00:00\",\"2023-08-06T00:00:00\",\"2023-08-13T00:00:00\",\"2023-08-20T00:00:00\",\"2023-08-27T00:00:00\",\"2023-09-03T00:00:00\",\"2023-09-10T00:00:00\",\"2023-09-17T00:00:00\",\"2023-09-24T00:00:00\",\"2023-10-01T00:00:00\",\"2023-10-08T00:00:00\",\"2023-10-15T00:00:00\",\"2023-10-22T00:00:00\",\"2023-10-29T00:00:00\",\"2023-11-05T00:00:00\",\"2023-11-12T00:00:00\",\"2023-11-19T00:00:00\",\"2023-11-26T00:00:00\",\"2023-12-03T00:00:00\",\"2023-12-10T00:00:00\",\"2023-12-17T00:00:00\",\"2023-12-24T00:00:00\"],\"xaxis\":\"x\",\"y\":[0.9784050074494306,1.0039809078341648,0.9958240444940163,1.0044282990469307,0.999830253746846,1.0096819711361957,1.0099542994691904,1.0357942223622403,1.0202527500141179,1.0372555243141532,1.0782885378776652,1.104109677884073,1.0683185434019813,1.0530083088402242,1.066592496063686,1.197708031135231,1.164422769333719,1.207353942572461,1.1333238135689772,1.11681486602693,1.0771537745229791,1.1307784629516688,1.1278305632367596,1.1599362980463743,1.1813907505682655,1.1814950721664708,1.149172114612478,1.1988611482855445,1.2272520959317452,1.2258281938785276,1.2316336542712472,1.2841069208452933,1.3071855393581968,1.3202258559022302,1.364057804066763,1.3476320500480774,1.370742242956974,1.3386077042558595,1.3544189481970865,1.2757007202229143,1.2228842160370028,1.2205054098208243,1.2392963815525384,1.2008036246032407,1.1582723915734046,1.2336581307565646,1.270156191669641,1.2445944277065435,1.2670007940435764,1.3112734832047095,1.2378704597547157,1.3126288500051864,1.3497777495642085,1.3441791147138595,1.416266058982779,1.4014563929172397,1.3886751654319556,1.4107877683150833,1.408621928640083,1.4469017676617268,1.485267299927702,1.4368557727621447,1.4458955991629596,1.4835579057831316,1.4326564793844065,1.486001256555845,1.5424212497116916,1.5575398213831317,1.6437101590336793,1.640763981028991,1.7482737275184277,1.6793260590855261,1.720145788938054,1.764413180397872,1.7203527789126334,1.6806224938384153,1.7512437419786722,1.7780828155101054,1.9025216221937171,1.750298264005278,1.7812928083052826,1.8046631077830686,1.8015098904235287,1.7022085026196507,1.8254859608211556,1.7202531436107267,1.7201261984265046,1.7721368076507995,1.8416353767515463,1.820832701296898,1.8343592412554808,1.8296923086113877,2.025908951838837,2.1573151728461974,2.1567398535375806,2.1550521698202547,2.230973651939553,2.2014086600359932,2.318537942245957,2.337636434113643,2.2538993913269407,2.309693646343503,2.308231392542504,2.2825600596239526,2.3216509969674726,2.36501472077763,2.3688794730755207,2.385499284801036,2.350636303473415,2.434391782057887,2.449192384725693,2.4902317432734624,2.5024555186045263,2.5066033691855347,2.518651883104751,2.3560355410148843,2.249714288859077,2.1497742972999996,2.2143968514048775,2.062869449235346,2.0809069640235123,1.9993133640916252,2.0310752748606444,2.159474771413878,2.1907137404076633,2.2523664969069825,2.2265582552275514,2.2643865584360308,2.2867528965205937,2.317026961473241,2.349749683986576,2.464412624504851,2.3194623778982772,2.159350411833168,2.217005140111171,2.333659007056276,2.3425480027448313,2.364373610569333,2.4163671766676162,2.395452577417429,2.4496669299335214,2.3766909356982735,2.3835404687991386,2.269842655374447,2.1358300620030075,2.1520094141492,2.2717585904198505,2.2530001998404385,2.370576221953709,2.32282953282766,2.410584362717116,2.290672763328348,2.2423868118958037,2.2672250849182367,2.3516433981431013,2.28623275433667,2.2528696854728536,2.272642577303819,2.3979963428188924,2.322997990049046,2.4571979738103065,2.5531293823094554,2.541503850087546,2.519543912206713,2.4800235828166346,2.397254622711017,2.4927781866854155,2.4142954654606554,2.357274037870301,2.366738733527405,2.3505297439325243,2.7718378999246216,2.66370592580632,2.6656278257925132,2.6658538416884947,2.6171352058010497,2.6178596301230903,2.5826887525003968,2.579220576301499,2.585685562802538,2.563939059791322,2.5581563935681237,2.6341093219951266,3.0701603296620785,3.1549214583077223,3.234157697423201,3.176993927226937,3.28865978085227,2.97470775665696,3.1099556837274713,2.984415733730215,3.1554305453792955,3.2315757640555556,3.152992487914555,3.2649430610194248,3.3187485614935084,3.4449580303765317,3.730194182113135,3.716825553688026,3.8681830469074368,3.6582097508303124,3.8475361790640132,3.914147456445756,3.9993874976644816,3.819940321169197,3.9877893908371287,4.050475669716759,4.085469232611711,3.681488269570116,3.4519194132155877,3.68625460143454,3.7511347149150605,3.17864447802148,3.247771282311752,3.3997330774661374,3.4408416597631155,3.5655127897472902,3.599045243299924,3.510578622940295,3.616036067798516,3.7765864175530086,3.689682046146021,3.887896851925974,3.5948214854906912,3.63565342685962,3.7062649052488084,3.8584654661381035,3.8050926008431687,3.963246602235317,3.9894773837431967,4.005275833110613,3.851757235948427,3.8011523074422886,4.17928173592636,4.254109226796352,4.28920629141495,4.497998523866765,4.672746417955961,4.804707054836088,4.807702536384124,4.780588775384966,4.773349612492772,4.530468476006191,4.406762974174884,4.5192618576973835,4.628101518858207,4.707721591302492,4.755704789632097,4.745372690956164,4.850161365770714,4.920778573260011,4.663951384639912,4.422660325994427,4.59466456542385,4.642042867215412,4.442178588266294,4.761629630624703,4.775287352122726,4.859188777105474,4.736577132232169,5.020039467088648,5.11445722670788,5.112756265353812,5.385813771384351,5.2175302658437825,5.306802233318749,5.362749327051583,5.382973946122764,5.385748645010125,5.443195840225814,5.471954574670292,5.338051507127296,5.566767628093705,5.58380987593326,5.496101615227626,5.609706268805261,5.968444259390635,6.043081589425603,6.153664076547694,6.268343381117685,6.700176380976902,6.777889026209207,6.483306582421899,6.313036476216597,6.482817768353873,6.095773324677718,6.16729926224815,6.427514315056605,6.659820152784041,6.605006558979275,6.33550183655065,6.2582091257788575,6.326358031692696,6.274964558436758,6.480840119598868,6.5202833800643125,6.640132217240884,6.3688807042767195,6.595172057869233,6.742030859669886,6.987460499685291,6.868216204226778,7.46255177263338,7.693066924974022,7.823675738474553,7.890873298971203,8.137966644468642,8.091685112128898,8.281264159655958,8.578066014469266,8.555788535425501,8.44596575310978,8.824278645690333,9.041584572949876,9.236063631713966,9.96652064268923,9.531399370136375,8.886126107239333,9.545938580492592,9.826311309050006,9.843572731761945,10.43813994230367,10.359436229521256,9.418597776296389,9.571692104255689,9.400376493657383,9.514431355676711,9.783156048892357,10.104898708058327,10.088048977223362,10.404505217963116,10.088487808389555,10.424675161114587,10.844777641050882,11.041393170600093,11.413905807911593,11.52515718612324,11.137123418259492,11.536394191725169,12.171427643933388,12.159540954014728,12.75049291736719,12.865767960809775,13.237398848159426,13.257336588302017,13.352827752097093,13.851722566337976,13.428828283922757,13.983599408838765,13.60659752909669,14.220305907173195,13.233555899464179,12.803434322440339,12.715327373274246,12.271599123559268,12.690995491490023,13.271321154769888,12.711365905317617,12.00888149607296,13.581898117838566,12.871418870842296,12.863342768878638,11.281236523866253,11.899128507947097,12.301059156637786,12.38428873052557,13.108048078507123,12.687066383271771,12.085428046646708,12.2913402079933,12.452230165134049,12.684947229797592,13.209577949756353,13.064424473083543,13.708003371073794,14.178371893021671,14.256319174968722,14.72334326288466,15.081590894060117,15.334967500376846,17.240152892701918,16.392802929879807,16.463635852538168,16.754027402258156,16.579029823281928,16.249360236418948,16.6905036368377,17.10882993183433,17.51999471533964,16.760215046618274,17.822478176492602,18.247820628962145,18.429167509109107,19.74619765130551,18.686952300549084,19.244612398617218,19.138020426771217,19.08970880219675,19.6543541197248,19.974084792360372,19.023648354327843,19.313568724290086,18.953135359633023,19.576940770150983,19.397068124858432,19.216077927502848,18.894559780038087,18.701194314094778,18.490500246211802,18.98379481423403,18.934770486218117,19.544266762036667,19.61172417744005,19.740786430061057,20.02191899688149,20.49238618486654,20.092499033900843,20.95558261368231,21.65578555308134,21.809681469840147,23.191467107944376,24.775631538389355,25.764567754851186,25.084886693171573,21.105857609164282,22.0312093429517,20.438577412632274,17.923320773685184,19.46287858076811,20.648261805061193,22.587630921917345,26.32014045833799,25.582797179907796,24.743824942382915,26.675151346192028,27.366163366931126,26.73761312306216,26.930519960322254,26.136432126194816,26.510637109367874,27.753106569774836,27.706413353961125,30.336140628075498,33.159192218752025,31.298148914054593,32.55738163139782,34.57720670118759,34.39329994715577,33.65548420008899,36.059709642865684,38.4304397585791,36.15563097364926,33.677256593561,30.105458551251417,32.307668764281956,32.63638478550907,34.227859312270915,35.051328301752946,34.41394311573794,31.8897182776729,36.96465788654705,34.76931138510406,32.63570387676648,33.4583766127455,33.794332081498915,32.642912876854304,33.373227206210515,33.66428488663223,34.41044695289023,34.27964560892994,32.40862435213526,35.60643528080497,34.631083560917894,37.87015795133799,38.161460793263664,37.206231330330624,34.70872461698802,34.478053674979414,35.42106647049326,34.53987711325232,35.16434992609916,36.93095399613186,39.9005493606328,40.784041012176,40.380058081912736,41.66890914375128,40.729944717858714,39.68982693929443,39.89056899229332,40.348063111787475,40.710841998772494,42.72152477589088,44.12769310263272,44.6271960326246,46.260071576854976,48.09115429760488,48.537728040068025,50.56164690408775,48.09293279303094,48.657075503517355,48.79745810046051,49.8704165118604,50.569431953821685,52.107763602443285,51.60718455589531,52.26209064990819,51.78430133768061,48.590914814027954,50.68063824752937,52.60994384091949,52.385401891376205,55.38556987991125,56.46682082347851,56.92649789313138,60.005089252715976,56.63157813887141,56.132450755720456,59.59457461501251,57.432878719073585,59.32412519318683,58.856481617904684,54.368279124273876,54.86442284708843,49.99369757407077,52.42795758495913,56.78710893774072,54.20542472961067,53.835442626783774,55.30033956021148,54.83162123276012,52.833833931512494,58.02335541018469,61.157215423473616,62.16763064804725,58.90409881110623,55.83361542175446,52.45748221820678,50.146757304014365,47.44029323910401,46.19529903604264,41.58559637641172,45.09347884999292,46.79296404618651,44.16320755022421,42.795842182672764,49.399840733244524,46.43564866542474,50.31133406154131,47.06590921725525,47.347963029909685,52.97011264928761,54.18403860306229,55.066907134066106,54.44983711342228,51.296927724005755,49.61211225011224,52.040668830863474,47.62204424693198,45.44428968387816,44.42093405385327,45.49109117144468,42.244340889589274,46.450748821124144,41.377597763465,34.94289820579076,38.66170844228085,38.21756367391647,38.92317291910119,40.445390162962696,37.974470302558345,37.648701488840054,36.29108892242396,35.512055856776044,33.07557474959911,36.44404848055441,37.1740381461932,39.32629792340771,42.781833396787455,40.89145434689538,40.46160491414576,38.412536592114144,39.45691495738072,37.638503755631845,43.92697824559263,45.00793033604533,46.398320045925644,48.27536741705018,47.066093094764895,47.67626183349888,50.379593196269404,50.79761589421597,54.58749499274595,56.89587591876761,59.13606210088247,59.61475024823924,57.8919031726637,59.90010634966992,60.53475523288431,59.203074529868005,58.61110501402957,59.995517136437535,58.396217895809436,58.307728587586816,58.247686013999946,57.05821208384331,55.43650665815128,56.4368172302399,57.2029215526332,57.461410448651066,58.60192624064933,54.1304799874462,53.21568720444181,55.5851353186871,55.40560891944476,54.65156411473396,51.98513911901643,56.590445221396294,59.74008215898793,60.39525252998327,60.82993426341561,58.6618437015062,58.09676591214411,56.45758219207677,58.78171380531073,58.39652722328337],\"yaxis\":\"y\",\"type\":\"scatter\"}],                        {\"template\":{\"data\":{\"histogram2dcontour\":[{\"type\":\"histogram2dcontour\",\"colorbar\":{\"outlinewidth\":0,\"ticks\":\"\"},\"colorscale\":[[0.0,\"#0d0887\"],[0.1111111111111111,\"#46039f\"],[0.2222222222222222,\"#7201a8\"],[0.3333333333333333,\"#9c179e\"],[0.4444444444444444,\"#bd3786\"],[0.5555555555555556,\"#d8576b\"],[0.6666666666666666,\"#ed7953\"],[0.7777777777777778,\"#fb9f3a\"],[0.8888888888888888,\"#fdca26\"],[1.0,\"#f0f921\"]]}],\"choropleth\":[{\"type\":\"choropleth\",\"colorbar\":{\"outlinewidth\":0,\"ticks\":\"\"}}],\"histogram2d\":[{\"type\":\"histogram2d\",\"colorbar\":{\"outlinewidth\":0,\"ticks\":\"\"},\"colorscale\":[[0.0,\"#0d0887\"],[0.1111111111111111,\"#46039f\"],[0.2222222222222222,\"#7201a8\"],[0.3333333333333333,\"#9c179e\"],[0.4444444444444444,\"#bd3786\"],[0.5555555555555556,\"#d8576b\"],[0.6666666666666666,\"#ed7953\"],[0.7777777777777778,\"#fb9f3a\"],[0.8888888888888888,\"#fdca26\"],[1.0,\"#f0f921\"]]}],\"heatmap\":[{\"type\":\"heatmap\",\"colorbar\":{\"outlinewidth\":0,\"ticks\":\"\"},\"colorscale\":[[0.0,\"#0d0887\"],[0.1111111111111111,\"#46039f\"],[0.2222222222222222,\"#7201a8\"],[0.3333333333333333,\"#9c179e\"],[0.4444444444444444,\"#bd3786\"],[0.5555555555555556,\"#d8576b\"],[0.6666666666666666,\"#ed7953\"],[0.7777777777777778,\"#fb9f3a\"],[0.8888888888888888,\"#fdca26\"],[1.0,\"#f0f921\"]]}],\"heatmapgl\":[{\"type\":\"heatmapgl\",\"colorbar\":{\"outlinewidth\":0,\"ticks\":\"\"},\"colorscale\":[[0.0,\"#0d0887\"],[0.1111111111111111,\"#46039f\"],[0.2222222222222222,\"#7201a8\"],[0.3333333333333333,\"#9c179e\"],[0.4444444444444444,\"#bd3786\"],[0.5555555555555556,\"#d8576b\"],[0.6666666666666666,\"#ed7953\"],[0.7777777777777778,\"#fb9f3a\"],[0.8888888888888888,\"#fdca26\"],[1.0,\"#f0f921\"]]}],\"contourcarpet\":[{\"type\":\"contourcarpet\",\"colorbar\":{\"outlinewidth\":0,\"ticks\":\"\"}}],\"contour\":[{\"type\":\"contour\",\"colorbar\":{\"outlinewidth\":0,\"ticks\":\"\"},\"colorscale\":[[0.0,\"#0d0887\"],[0.1111111111111111,\"#46039f\"],[0.2222222222222222,\"#7201a8\"],[0.3333333333333333,\"#9c179e\"],[0.4444444444444444,\"#bd3786\"],[0.5555555555555556,\"#d8576b\"],[0.6666666666666666,\"#ed7953\"],[0.7777777777777778,\"#fb9f3a\"],[0.8888888888888888,\"#fdca26\"],[1.0,\"#f0f921\"]]}],\"surface\":[{\"type\":\"surface\",\"colorbar\":{\"outlinewidth\":0,\"ticks\":\"\"},\"colorscale\":[[0.0,\"#0d0887\"],[0.1111111111111111,\"#46039f\"],[0.2222222222222222,\"#7201a8\"],[0.3333333333333333,\"#9c179e\"],[0.4444444444444444,\"#bd3786\"],[0.5555555555555556,\"#d8576b\"],[0.6666666666666666,\"#ed7953\"],[0.7777777777777778,\"#fb9f3a\"],[0.8888888888888888,\"#fdca26\"],[1.0,\"#f0f921\"]]}],\"mesh3d\":[{\"type\":\"mesh3d\",\"colorbar\":{\"outlinewidth\":0,\"ticks\":\"\"}}],\"scatter\":[{\"fillpattern\":{\"fillmode\":\"overlay\",\"size\":10,\"solidity\":0.2},\"type\":\"scatter\"}],\"parcoords\":[{\"type\":\"parcoords\",\"line\":{\"colorbar\":{\"outlinewidth\":0,\"ticks\":\"\"}}}],\"scatterpolargl\":[{\"type\":\"scatterpolargl\",\"marker\":{\"colorbar\":{\"outlinewidth\":0,\"ticks\":\"\"}}}],\"bar\":[{\"error_x\":{\"color\":\"#2a3f5f\"},\"error_y\":{\"color\":\"#2a3f5f\"},\"marker\":{\"line\":{\"color\":\"#E5ECF6\",\"width\":0.5},\"pattern\":{\"fillmode\":\"overlay\",\"size\":10,\"solidity\":0.2}},\"type\":\"bar\"}],\"scattergeo\":[{\"type\":\"scattergeo\",\"marker\":{\"colorbar\":{\"outlinewidth\":0,\"ticks\":\"\"}}}],\"scatterpolar\":[{\"type\":\"scatterpolar\",\"marker\":{\"colorbar\":{\"outlinewidth\":0,\"ticks\":\"\"}}}],\"histogram\":[{\"marker\":{\"pattern\":{\"fillmode\":\"overlay\",\"size\":10,\"solidity\":0.2}},\"type\":\"histogram\"}],\"scattergl\":[{\"type\":\"scattergl\",\"marker\":{\"colorbar\":{\"outlinewidth\":0,\"ticks\":\"\"}}}],\"scatter3d\":[{\"type\":\"scatter3d\",\"line\":{\"colorbar\":{\"outlinewidth\":0,\"ticks\":\"\"}},\"marker\":{\"colorbar\":{\"outlinewidth\":0,\"ticks\":\"\"}}}],\"scattermapbox\":[{\"type\":\"scattermapbox\",\"marker\":{\"colorbar\":{\"outlinewidth\":0,\"ticks\":\"\"}}}],\"scatterternary\":[{\"type\":\"scatterternary\",\"marker\":{\"colorbar\":{\"outlinewidth\":0,\"ticks\":\"\"}}}],\"scattercarpet\":[{\"type\":\"scattercarpet\",\"marker\":{\"colorbar\":{\"outlinewidth\":0,\"ticks\":\"\"}}}],\"carpet\":[{\"aaxis\":{\"endlinecolor\":\"#2a3f5f\",\"gridcolor\":\"white\",\"linecolor\":\"white\",\"minorgridcolor\":\"white\",\"startlinecolor\":\"#2a3f5f\"},\"baxis\":{\"endlinecolor\":\"#2a3f5f\",\"gridcolor\":\"white\",\"linecolor\":\"white\",\"minorgridcolor\":\"white\",\"startlinecolor\":\"#2a3f5f\"},\"type\":\"carpet\"}],\"table\":[{\"cells\":{\"fill\":{\"color\":\"#EBF0F8\"},\"line\":{\"color\":\"white\"}},\"header\":{\"fill\":{\"color\":\"#C8D4E3\"},\"line\":{\"color\":\"white\"}},\"type\":\"table\"}],\"barpolar\":[{\"marker\":{\"line\":{\"color\":\"#E5ECF6\",\"width\":0.5},\"pattern\":{\"fillmode\":\"overlay\",\"size\":10,\"solidity\":0.2}},\"type\":\"barpolar\"}],\"pie\":[{\"automargin\":true,\"type\":\"pie\"}]},\"layout\":{\"autotypenumbers\":\"strict\",\"colorway\":[\"#636efa\",\"#EF553B\",\"#00cc96\",\"#ab63fa\",\"#FFA15A\",\"#19d3f3\",\"#FF6692\",\"#B6E880\",\"#FF97FF\",\"#FECB52\"],\"font\":{\"color\":\"#2a3f5f\"},\"hovermode\":\"closest\",\"hoverlabel\":{\"align\":\"left\"},\"paper_bgcolor\":\"white\",\"plot_bgcolor\":\"#E5ECF6\",\"polar\":{\"bgcolor\":\"#E5ECF6\",\"angularaxis\":{\"gridcolor\":\"white\",\"linecolor\":\"white\",\"ticks\":\"\"},\"radialaxis\":{\"gridcolor\":\"white\",\"linecolor\":\"white\",\"ticks\":\"\"}},\"ternary\":{\"bgcolor\":\"#E5ECF6\",\"aaxis\":{\"gridcolor\":\"white\",\"linecolor\":\"white\",\"ticks\":\"\"},\"baxis\":{\"gridcolor\":\"white\",\"linecolor\":\"white\",\"ticks\":\"\"},\"caxis\":{\"gridcolor\":\"white\",\"linecolor\":\"white\",\"ticks\":\"\"}},\"coloraxis\":{\"colorbar\":{\"outlinewidth\":0,\"ticks\":\"\"}},\"colorscale\":{\"sequential\":[[0.0,\"#0d0887\"],[0.1111111111111111,\"#46039f\"],[0.2222222222222222,\"#7201a8\"],[0.3333333333333333,\"#9c179e\"],[0.4444444444444444,\"#bd3786\"],[0.5555555555555556,\"#d8576b\"],[0.6666666666666666,\"#ed7953\"],[0.7777777777777778,\"#fb9f3a\"],[0.8888888888888888,\"#fdca26\"],[1.0,\"#f0f921\"]],\"sequentialminus\":[[0.0,\"#0d0887\"],[0.1111111111111111,\"#46039f\"],[0.2222222222222222,\"#7201a8\"],[0.3333333333333333,\"#9c179e\"],[0.4444444444444444,\"#bd3786\"],[0.5555555555555556,\"#d8576b\"],[0.6666666666666666,\"#ed7953\"],[0.7777777777777778,\"#fb9f3a\"],[0.8888888888888888,\"#fdca26\"],[1.0,\"#f0f921\"]],\"diverging\":[[0,\"#8e0152\"],[0.1,\"#c51b7d\"],[0.2,\"#de77ae\"],[0.3,\"#f1b6da\"],[0.4,\"#fde0ef\"],[0.5,\"#f7f7f7\"],[0.6,\"#e6f5d0\"],[0.7,\"#b8e186\"],[0.8,\"#7fbc41\"],[0.9,\"#4d9221\"],[1,\"#276419\"]]},\"xaxis\":{\"gridcolor\":\"white\",\"linecolor\":\"white\",\"ticks\":\"\",\"title\":{\"standoff\":15},\"zerolinecolor\":\"white\",\"automargin\":true,\"zerolinewidth\":2},\"yaxis\":{\"gridcolor\":\"white\",\"linecolor\":\"white\",\"ticks\":\"\",\"title\":{\"standoff\":15},\"zerolinecolor\":\"white\",\"automargin\":true,\"zerolinewidth\":2},\"scene\":{\"xaxis\":{\"backgroundcolor\":\"#E5ECF6\",\"gridcolor\":\"white\",\"linecolor\":\"white\",\"showbackground\":true,\"ticks\":\"\",\"zerolinecolor\":\"white\",\"gridwidth\":2},\"yaxis\":{\"backgroundcolor\":\"#E5ECF6\",\"gridcolor\":\"white\",\"linecolor\":\"white\",\"showbackground\":true,\"ticks\":\"\",\"zerolinecolor\":\"white\",\"gridwidth\":2},\"zaxis\":{\"backgroundcolor\":\"#E5ECF6\",\"gridcolor\":\"white\",\"linecolor\":\"white\",\"showbackground\":true,\"ticks\":\"\",\"zerolinecolor\":\"white\",\"gridwidth\":2}},\"shapedefaults\":{\"line\":{\"color\":\"#2a3f5f\"}},\"annotationdefaults\":{\"arrowcolor\":\"#2a3f5f\",\"arrowhead\":0,\"arrowwidth\":1},\"geo\":{\"bgcolor\":\"white\",\"landcolor\":\"#E5ECF6\",\"subunitcolor\":\"white\",\"showland\":true,\"showlakes\":true,\"lakecolor\":\"white\"},\"title\":{\"x\":0.05},\"mapbox\":{\"style\":\"light\"}}},\"xaxis\":{\"anchor\":\"y\",\"domain\":[0.0,1.0],\"title\":{\"text\":\"Date\"}},\"yaxis\":{\"anchor\":\"x\",\"domain\":[0.0,1.0],\"title\":{\"text\":\"Cumulative Return\"}},\"legend\":{\"tracegroupgap\":0},\"title\":{\"text\":\"Interactive Cumulative Returns - Naive Portfolio\",\"font\":{\"size\":24}}},                        {\"responsive\": true}                    ).then(function(){\n",
              "                            \n",
              "var gd = document.getElementById('7c0347a8-f8a2-4c68-8ee1-d719292fb33f');\n",
              "var x = new MutationObserver(function (mutations, observer) {{\n",
              "        var display = window.getComputedStyle(gd).display;\n",
              "        if (!display || display === 'none') {{\n",
              "            console.log([gd, 'removed!']);\n",
              "            Plotly.purge(gd);\n",
              "            observer.disconnect();\n",
              "        }}\n",
              "}});\n",
              "\n",
              "// Listen for the removal of the full notebook cells\n",
              "var notebookContainer = gd.closest('#notebook-container');\n",
              "if (notebookContainer) {{\n",
              "    x.observe(notebookContainer, {childList: true});\n",
              "}}\n",
              "\n",
              "// Listen for the clearing of the current output cell\n",
              "var outputEl = gd.closest('.output');\n",
              "if (outputEl) {{\n",
              "    x.observe(outputEl, {childList: true});\n",
              "}}\n",
              "\n",
              "                        })                };                            </script>        </div>\n",
              "</body>\n",
              "</html>"
            ]
          },
          "metadata": {}
        }
      ]
    },
    {
      "cell_type": "code",
      "source": [],
      "metadata": {
        "id": "CrR9Ywo3Z62F"
      },
      "execution_count": null,
      "outputs": []
    }
  ]
}